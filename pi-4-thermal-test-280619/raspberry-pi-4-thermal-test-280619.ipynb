{
 "cells": [
  {
   "cell_type": "markdown",
   "metadata": {},
   "source": [
    "# Raspberry Pi 4 Thermals and Fan SHIM\n",
    "\n",
    "Let's take a quick look at some thermal benchmarks of the new Raspberry Pi 4 (4GB RAM) with a couple of different cooling options, passive and active, and a combination of both.\n",
    "\n",
    "The experimental setup was a Raspberry Pi 4 (4GB RAM) with only a 5.1V / 3A USB-C power supply, no case, and no peripherals connected. Each test ran for 10 minutes, and in the tests with Fan SHIM the fan was started half-way through after 5 minutes. We ran `sysbench --test=cpu --cpu-max-prime=1000000 --num-threads=4 run` to hit the CPU with a high load, and then measured the temperature with `vcgencmd measure_temp` every second.\n",
    "\n",
    "[You can find more details in our blog post here.](https://blog.pimoroni.com/raspberry-pi-4-thermals-and-fan-shim/)"
   ]
  },
  {
   "cell_type": "code",
   "execution_count": 46,
   "metadata": {
    "collapsed": true
   },
   "outputs": [],
   "source": [
    "import pandas as pd\n",
    "from ggplot import *\n",
    "\n",
    "pd.options.mode.chained_assignment = None"
   ]
  },
  {
   "cell_type": "code",
   "execution_count": 47,
   "metadata": {
    "collapsed": false
   },
   "outputs": [
    {
     "data": {
      "text/html": [
       "<div>\n",
       "<table border=\"1\" class=\"dataframe\">\n",
       "  <thead>\n",
       "    <tr style=\"text-align: right;\">\n",
       "      <th></th>\n",
       "      <th>Time</th>\n",
       "      <th>No cooling</th>\n",
       "      <th>Heatsink</th>\n",
       "      <th>Fan SHIM</th>\n",
       "      <th>Fan SHIM + Heatsink</th>\n",
       "    </tr>\n",
       "  </thead>\n",
       "  <tbody>\n",
       "    <tr>\n",
       "      <th>0</th>\n",
       "      <td>0</td>\n",
       "      <td>73.523</td>\n",
       "      <td>69.627</td>\n",
       "      <td>77.419</td>\n",
       "      <td>67.679</td>\n",
       "    </tr>\n",
       "    <tr>\n",
       "      <th>1</th>\n",
       "      <td>1</td>\n",
       "      <td>73.523</td>\n",
       "      <td>70.114</td>\n",
       "      <td>76.932</td>\n",
       "      <td>67.679</td>\n",
       "    </tr>\n",
       "    <tr>\n",
       "      <th>2</th>\n",
       "      <td>2</td>\n",
       "      <td>74.010</td>\n",
       "      <td>69.140</td>\n",
       "      <td>75.958</td>\n",
       "      <td>66.705</td>\n",
       "    </tr>\n",
       "    <tr>\n",
       "      <th>3</th>\n",
       "      <td>3</td>\n",
       "      <td>73.523</td>\n",
       "      <td>69.627</td>\n",
       "      <td>77.906</td>\n",
       "      <td>66.705</td>\n",
       "    </tr>\n",
       "    <tr>\n",
       "      <th>4</th>\n",
       "      <td>4</td>\n",
       "      <td>74.984</td>\n",
       "      <td>69.627</td>\n",
       "      <td>77.419</td>\n",
       "      <td>67.192</td>\n",
       "    </tr>\n",
       "  </tbody>\n",
       "</table>\n",
       "</div>"
      ],
      "text/plain": [
       "   Time  No cooling  Heatsink  Fan SHIM  Fan SHIM + Heatsink\n",
       "0     0      73.523    69.627    77.419               67.679\n",
       "1     1      73.523    70.114    76.932               67.679\n",
       "2     2      74.010    69.140    75.958               66.705\n",
       "3     3      73.523    69.627    77.906               66.705\n",
       "4     4      74.984    69.627    77.419               67.192"
      ]
     },
     "execution_count": 47,
     "metadata": {},
     "output_type": "execute_result"
    }
   ],
   "source": [
    "df = pd.read_csv(\"raspberry-pi-4-thermal-test-280619.csv\", sep=\",\", header=0)\n",
    "df.head()"
   ]
  },
  {
   "cell_type": "markdown",
   "metadata": {},
   "source": [
    "## Passive cooling (30x40x5mm heatsink) vs. no cooling\n",
    "\n",
    "Let's begin by looking at how passive cooling from our large heatsink affects the CPU temperature compared with no cooling at all. The **heatsink gives 2-3°C cooling** over the ten minute test, with a **mean temperature of 75.9°C with the heatsink vs. a mean temperature of 78.8°C with no cooling at all**."
   ]
  },
  {
   "cell_type": "code",
   "execution_count": 53,
   "metadata": {
    "collapsed": false
   },
   "outputs": [
    {
     "name": "stdout",
     "output_type": "stream",
     "text": [
      "Mean temp. No cooling: 78.8°C\n",
      "Mean temp. Heatsink: 75.9°C\n",
      "\n",
      "Max. temp. No cooling: 82.3°C\n",
      "Max. temp. Heatsink: 79.9°C\n",
      "\n",
      "Mean temp. difference No cooling vs. Heatsink: 3.0°C\n",
      "Max temp. difference No cooling vs. Heatsink: 2.4°C\n",
      "\n"
     ]
    }
   ],
   "source": [
    "mean_no_cooling_temp = df[\"No cooling\"].mean()\n",
    "mean_heatsink_temp = df[\"Heatsink\"].mean()\n",
    "\n",
    "max_no_cooling_temp = df[\"No cooling\"].max()\n",
    "max_heatsink_temp = df[\"Heatsink\"].max()\n",
    "\n",
    "mean_diff = mean_no_cooling_temp - mean_heatsink_temp\n",
    "max_diff = max_no_cooling_temp - max_heatsink_temp\n",
    "\n",
    "print(\"\"\"Mean temp. No cooling: {:.01f}°C\n",
    "Mean temp. Heatsink: {:.01f}°C\n",
    "\n",
    "Max. temp. No cooling: {:.01f}°C\n",
    "Max. temp. Heatsink: {:.01f}°C\n",
    "\n",
    "Mean temp. difference No cooling vs. Heatsink: {:.01f}°C\n",
    "Max temp. difference No cooling vs. Heatsink: {:.01f}°C\n",
    "\"\"\".format(mean_no_cooling_temp, mean_heatsink_temp, max_no_cooling_temp, max_heatsink_temp, mean_diff, max_diff))"
   ]
  },
  {
   "cell_type": "markdown",
   "metadata": {},
   "source": [
    "## Active cooling (Fan SHIM) vs. no cooling\n",
    "\n",
    "The **maximum temperature reached with no cooling was 82.3°C**, while the **minimum temperature reached with Fan SHIM was 52.1°C**, a difference of 30.2°C. The difference in the mean temperature with no cooling vs. the minimum Fan SHIM temperature across the ten minute test was 26.7°C. So, **Fan SHIM gives approximately 25-30°C of active cooling**."
   ]
  },
  {
   "cell_type": "code",
   "execution_count": 54,
   "metadata": {
    "collapsed": false
   },
   "outputs": [
    {
     "name": "stdout",
     "output_type": "stream",
     "text": [
      "Mean temp. No cooling: 78.8°C\n",
      "Max. temp. No cooling: 82.3°C\n",
      "Min. temp. Fan SHIM: 52.1°C\n",
      "\n",
      "Max difference No cooling vs. Fan SHIM: 30.2°C\n",
      "Mean difference No cooling vs. Fan SHIM (min): 26.7°C\n",
      "\n"
     ]
    }
   ],
   "source": [
    "mean_no_cooling_temp = df[\"No cooling\"].mean()\n",
    "max_no_cooling_temp = df[\"No cooling\"].max()\n",
    "min_fan_shim_temp = df[\"Fan SHIM\"].min()\n",
    "\n",
    "max_diff = max_no_cooling_temp - min_fan_shim_temp\n",
    "mean_diff = mean_no_cooling_temp - min_fan_shim_temp\n",
    "\n",
    "print(\"\"\"Mean temp. No cooling: {:.01f}°C\n",
    "Max. temp. No cooling: {:.01f}°C\n",
    "Min. temp. Fan SHIM: {:.01f}°C\n",
    "\n",
    "Max difference No cooling vs. Fan SHIM: {:.01f}°C\n",
    "Mean difference No cooling vs. Fan SHIM (min): {:.01f}°C\n",
    "\"\"\".format(mean_no_cooling_temp, max_no_cooling_temp, min_fan_shim_temp, max_diff, mean_diff))"
   ]
  },
  {
   "cell_type": "markdown",
   "metadata": {},
   "source": [
    "## Comparing all the data\n",
    "\n",
    "Let's compare all of the data as a line graph to get an idea of how effective Fan SHIM's cooling is."
   ]
  },
  {
   "cell_type": "code",
   "execution_count": 50,
   "metadata": {
    "collapsed": false
   },
   "outputs": [
    {
     "data": {
      "image/png": "[encoded data removed]",
      "text/plain": [
       "<matplotlib.figure.Figure at 0x11208f0b8>"
      ]
     },
     "metadata": {},
     "output_type": "display_data"
    },
    {
     "data": {
      "text/plain": [
       "<ggplot: (-9223372036567431231)>"
      ]
     },
     "execution_count": 50,
     "metadata": {},
     "output_type": "execute_result"
    }
   ],
   "source": [
    "df_smooth = df.copy(deep=True)\n",
    "df_smooth.iloc[:,1:] = df_smooth.iloc[:,1:].rolling(window=25).mean()\n",
    "df_smooth_melt = pd.melt(df_smooth, id_vars=[\"Time\"], var_name=\"variable\")\n",
    "ggplot(aes(x=\"Time\", y=\"value\", by=\"variable\", color=\"variable\"), data=df_smooth_melt) + geom_line() + xlab(\"Time (seconds)\") + ylab(\"CPU temperature (°C)\") + ylim(20, 100)"
   ]
  },
  {
   "cell_type": "markdown",
   "metadata": {},
   "source": [
    "Last of all, let's look at how much time Fan SHIM takes to drop the CPU temperature by various amounts."
   ]
  },
  {
   "cell_type": "code",
   "execution_count": 52,
   "metadata": {
    "collapsed": false
   },
   "outputs": [
    {
     "name": "stdout",
     "output_type": "stream",
     "text": [
      "Time taken to drop temperature by:\n",
      "\n",
      "10°C: 45 seconds\n",
      "20°C: 76 seconds\n",
      "25°C: 106 seconds\n",
      "\n"
     ]
    }
   ],
   "source": [
    "max_time = df[df[\"Fan SHIM\"]==df[\"Fan SHIM\"].max()].Time\n",
    "max_temp = df[\"Fan SHIM\"].max()\n",
    "\n",
    "drop_10 = max_temp - 10\n",
    "drop_20 = max_temp - 20\n",
    "drop_25 = max_temp -25\n",
    "\n",
    "drop_10_time = df[df[\"Fan SHIM\"] < drop_10].Time.min() - max_time\n",
    "drop_20_time = df[df[\"Fan SHIM\"] < drop_20].Time.min() - max_time\n",
    "drop_25_time = df[df[\"Fan SHIM\"] < drop_25].Time.min() - max_time\n",
    "\n",
    "print(\"\"\"Time taken to drop temperature by:\n",
    "\n",
    "10°C: {} seconds\n",
    "20°C: {} seconds\n",
    "25°C: {} seconds\n",
    "\"\"\".format(int(drop_10_time), int(drop_20_time), int(drop_25_time)))"
   ]
  }
 ],
 "metadata": {
  "kernelspec": {
   "display_name": "Python 3",
   "language": "python",
   "name": "python3"
  },
  "language_info": {
   "codemirror_mode": {
    "name": "ipython",
    "version": 3
   },
   "file_extension": ".py",
   "mimetype": "text/x-python",
   "name": "python",
   "nbconvert_exporter": "python",
   "pygments_lexer": "ipython3",
   "version": "3.6.0"
  }
 },
 "nbformat": 4,
 "nbformat_minor": 2
}
